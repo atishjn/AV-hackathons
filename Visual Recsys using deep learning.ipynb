{
 "cells": [
  {
   "cell_type": "markdown",
   "metadata": {},
   "source": [
    "# Visual RecSys framework\n",
    "\n",
    "## ** Deep Learning resources **\n",
    "- __ [Convolutional Neural Network for visual recognition](http://cs231n.github.io/)__<br>\n",
    "- __[Deep Learning by Andrew Ng](https://www.coursera.org/specializations/deep-learning)__<br>\n",
    "\n",
    "\n",
    "\n",
    "# ** Keras Deep Learning resources **\n",
    "This is a directory of tutorials and open-source code repositories for working with Keras\n",
    " \n",
    "#### Tutorial\n",
    " - __ [Getting started with sequential models](https://keras.io/getting-started/sequential-model-guide/)__<br>\n",
    " - __ [Develop Your First Neural Network in Python With Keras Step-By-Step](https://machinelearningmastery.com/tutorial-first-neural-network-python-keras/)__<br>\n",
    "\n",
    " - __ [Building powerful image classification models using very little data](https://blog.keras.io/building-powerful-image-classification-models-using-very-little-data.html)__\n",
    " <br>\n",
    " - __ [Keras video tutorial](https://www.youtube.com/playlist?list=PLFxrZqbLojdKuK7Lm6uamegEFGW2wki6P)__<br>\n",
    "\n",
    "#### Deep Learning Architectures\n",
    " - __ [Deep learning papers you need to know about](https://adeshpande3.github.io/adeshpande3.github.io/The-9-Deep-Learning-Papers-You-Need-To-Know-About.html)__<br>\n",
    " \n",
    "#### Working with Image\n",
    " - __ [Getting started with CNN on MNIST](https://github.com/keras-team/keras/blob/master/examples/mnist_cnn.py)__<br>\n",
    " - __ [Art of using pre-trained models](https://www.analyticsvidhya.com/blog/2017/06/transfer-learning-the-art-of-fine-tuning-a-pre-trained-model/)__<br>\n",
    " \n",
    "## _Framework to follow while building Recsys_\n",
    "### Step 1:\n",
    "First you need to import the required libraries"
   ]
  },
  {
   "cell_type": "code",
   "execution_count": null,
   "metadata": {},
   "outputs": [],
   "source": []
  },
  {
   "cell_type": "markdown",
   "metadata": {},
   "source": [
    "### Step 2:\n",
    "Path to read the data"
   ]
  },
  {
   "cell_type": "code",
   "execution_count": null,
   "metadata": {},
   "outputs": [],
   "source": []
  },
  {
   "cell_type": "markdown",
   "metadata": {},
   "source": [
    "### Step 3:\n",
    "Load the pretrained model weights"
   ]
  },
  {
   "cell_type": "code",
   "execution_count": null,
   "metadata": {},
   "outputs": [],
   "source": []
  },
  {
   "cell_type": "markdown",
   "metadata": {},
   "source": [
    "### Step 4:\n",
    "#### Data augmentation and batch initalization\n",
    " - __ [data augmentation using CNN in tensorflow](https://medium.com/ymedialabs-innovation/data-augmentation-techniques-in-cnn-using-tensorflow-371ae43d5be9) __<br>\n",
    " - __[Image augmentation keras](https://blog.keras.io/building-powerful-image-classification-models-using-very-little-data.html)__<br>\n",
    " - __[Simple example on image augmentation](https://towardsdatascience.com/image-augmentation-for-deep-learning-histogram-equalization-a71387f609b2)__<br>\n",
    "\n",
    "We will not be using this step in first iteration. But this becomes a core step while doing pretrained model finetuning."
   ]
  },
  {
   "cell_type": "code",
   "execution_count": null,
   "metadata": {},
   "outputs": [],
   "source": []
  },
  {
   "cell_type": "markdown",
   "metadata": {},
   "source": [
    "### Step 5:\n",
    "#### Pretrained model fine tuning using VGG16, Resnet, Inception\n",
    " - __ [Building powerful image classification models using very little data](https://blog.keras.io/building-powerful-image-classification-models-using-very-little-data.html)__<br>\n",
    " - __ [Art of using pre-trained models](https://www.analyticsvidhya.com/blog/2017/06/transfer-learning-the-art-of-fine-tuning-a-pre-trained-model/)__<br>\n",
    "This step will not be used in the first iteration."
   ]
  },
  {
   "cell_type": "code",
   "execution_count": null,
   "metadata": {},
   "outputs": [],
   "source": []
  },
  {
   "cell_type": "markdown",
   "metadata": {},
   "source": [
    "### Step 4:\n",
    "Extracting feature embedding using VGG16,Resnet,Inception with passing input image dataset in batches. The image id and labels to be stored seperately."
   ]
  },
  {
   "cell_type": "code",
   "execution_count": null,
   "metadata": {},
   "outputs": [],
   "source": []
  },
  {
   "cell_type": "markdown",
   "metadata": {},
   "source": [
    "### Step 5:\n",
    "Dimensionality reduction"
   ]
  },
  {
   "cell_type": "code",
   "execution_count": null,
   "metadata": {},
   "outputs": [],
   "source": []
  },
  {
   "cell_type": "markdown",
   "metadata": {},
   "source": [
    "### Step 6:\n",
    "Similarity search using faiss, annoy\n",
    " - __[Getting started with faiss similarity search](https://github.com/facebookresearch/faiss)__"
   ]
  }
 ],
 "metadata": {
  "kernelspec": {
   "display_name": "Python 2",
   "language": "python",
   "name": "python2"
  },
  "language_info": {
   "codemirror_mode": {
    "name": "ipython",
    "version": 2
   },
   "file_extension": ".py",
   "mimetype": "text/x-python",
   "name": "python",
   "nbconvert_exporter": "python",
   "pygments_lexer": "ipython2",
   "version": "2.7.10"
  }
 },
 "nbformat": 4,
 "nbformat_minor": 2
}
